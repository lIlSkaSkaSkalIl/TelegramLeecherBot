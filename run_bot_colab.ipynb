{
  "cells": [
    {
      "cell_type": "markdown",
      "metadata": {},
      "source": [
        "# \ud83e\udd16 Telegram Uploader Bot v1.02,03 \u2014 Form Input Style (Xtron-style UI)\n",
        "Masukkan token dan API ID dengan tampilan input form di bawah ini."
      ]
    },
    {
      "cell_type": "code",
      "metadata": {},
      "source": [
        "import os\n",
        "from getpass import getpass\n",
        "\n",
        "API_ID = getpass(\"Masukkan API_ID: \")\n",
        "API_HASH = getpass(\"Masukkan API_HASH: \")\n",
        "BOT_TOKEN = getpass(\"Masukkan BOT_TOKEN: \")\n",
        "\n",
        "os.environ['API_ID'] = API_ID\n",
        "os.environ['API_HASH'] = API_HASH\n",
        "os.environ['BOT_TOKEN'] = BOT_TOKEN"
      ],
      "execution_count": null,
      "outputs": []
    },
    {
      "cell_type": "markdown",
      "metadata": {},
      "source": [
        "## \ud83d\udce5 Clone Repo"
      ]
    },
    {
      "cell_type": "code",
      "metadata": {},
      "source": [
        "!git clone https://github.com/your_username/Telegram_Uploader_Bot.git || echo \"Repo sudah ada\""
      ],
      "execution_count": null,
      "outputs": []
    },
    {
      "cell_type": "code",
      "metadata": {},
      "source": [
        "%cd Telegram_Uploader_Bot\n",
        "!pip install -r requirements.txt"
      ],
      "execution_count": null,
      "outputs": []
    },
    {
      "cell_type": "markdown",
      "metadata": {},
      "source": [
        "## \u25b6\ufe0f Jalankan Bot"
      ]
    },
    {
      "cell_type": "code",
      "metadata": {},
      "source": [
        "!python3 main.py"
      ],
      "execution_count": null,
      "outputs": []
    }
  ],
  "metadata": {
    "colab": {
      "name": "run_bot_colab_form_input.ipynb",
      "provenance": []
    },
    "kernelspec": {
      "display_name": "Python 3",
      "language": "python",
      "name": "python3"
    },
    "language_info": {
      "name": "python"
    }
  },
  "nbformat": 4,
  "nbformat_minor": 1
}